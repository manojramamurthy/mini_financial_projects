{
 "cells": [
  {
   "cell_type": "markdown",
   "metadata": {},
   "source": [
    "# This notebook covers the formula used to calculate the time value money and bond pricing."
   ]
  },
  {
   "cell_type": "markdown",
   "metadata": {},
   "source": [
    "# Time Value Money\n",
    "\n",
    "\n",
    "\n",
    "### The time value of money d dollars today is worth more than d dolloars in the future. \n",
    "\n",
    "Future money worth less due to inflation; it will increase the prices, and consequently lowering the buying power of your money!!!\n",
    "\n",
    "Future value: the value of a current asset at a specified date in the future based on an assumed rate of growth over time. \n",
    "\n",
    "For more info on \n",
    "https://www.investopedia.com/articles/03/082703.asp\n",
    "\n"
   ]
  },
  {
   "cell_type": "code",
   "execution_count": 1,
   "metadata": {},
   "outputs": [],
   "source": [
    "from math import exp\n",
    "\n",
    "def discrete_future_value(d,r,n):\n",
    "\treturn d*(1+r)**n\n",
    "\n",
    "def discrete_present_value(d,r,n):\n",
    "\treturn d*(1+r)**-n\n",
    "\t\n",
    "def continuous_future_value(d,r,t):\n",
    "\treturn d*exp(r*t)\n",
    "\t\n",
    "def continuous_present_value(d,r,t):\n",
    "\treturn d*exp(-r*t)"
   ]
  },
  {
   "cell_type": "code",
   "execution_count": 2,
   "metadata": {},
   "outputs": [],
   "source": [
    "d=500  #value of investment in dollars\n",
    "r=0.20 #interest rate\n",
    "n=5"
   ]
  },
  {
   "cell_type": "code",
   "execution_count": 3,
   "metadata": {},
   "outputs": [
    {
     "name": "stdout",
     "output_type": "stream",
     "text": [
      "Future value of $500 in 5 year with the interest rate of 0.2 for (discrete model):  1244.1599999999996\n",
      "Future value of $500 in 5 year with the interest rate of 0.2 for (continuous model):  1359.1409142295227\n",
      "Present value of $500 in 5 year with the interest rate of 0.2 for (discrete model):  200.9387860082305\n",
      "Present value of $500 in 5 year with the interest rate of 0.2 for(continuous model):  183.93972058572118\n"
     ]
    }
   ],
   "source": [
    "print(\"Future value of ${} in {} year with the interest rate of {} for (discrete model): \".format(d,n,r), discrete_future_value(d,r,n))\n",
    "print(\"Future value of ${} in {} year with the interest rate of {} for (continuous model): \".format(d,n,r), continuous_future_value(d,r,n))\n",
    "print(\"Present value of ${} in {} year with the interest rate of {} for (discrete model): \".format(d,n,r), discrete_present_value(d,r,n))\n",
    "print(\"Present value of ${} in {} year with the interest rate of {} for(continuous model): \".format(d,n,r), continuous_present_value(d,r,n))"
   ]
  },
  {
   "cell_type": "code",
   "execution_count": null,
   "metadata": {},
   "outputs": [],
   "source": []
  },
  {
   "cell_type": "markdown",
   "metadata": {},
   "source": [
    "# Bond Pricing\n",
    "\n",
    "\n",
    "### A bond is a debt investment in which an investor loans money to an entity (organization, company, government).\n",
    "\n",
    "- Long-term bonds (bonds become more mature) have a greater probability of default, and thus, are a higher risk investment.\n",
    "- Due to this, bonds with longer time to maturity usually have higher interest rates !!!\n"
   ]
  },
  {
   "cell_type": "markdown",
   "metadata": {},
   "source": [
    "### Interest rates and bond prices are negatively correlated\n",
    "- if interest rates rise: bonds prices decline\n",
    "- if interest rates fall: bonds prices rise\n"
   ]
  },
  {
   "cell_type": "markdown",
   "metadata": {},
   "source": [
    "There are two types of bonds:\n",
    "- (1) zero-coupon bonds\n",
    "- (2) coupon bonds\n",
    "\n",
    "For more info on bond pricing: \n",
    "https://www.investopedia.com/articles/bonds/07/pricing_conventions.asp"
   ]
  },
  {
   "cell_type": "code",
   "execution_count": 4,
   "metadata": {},
   "outputs": [],
   "source": [
    "def zero_bond_price(par_value,market_rate,n):\n",
    "\treturn par_value/(1+market_rate)**n\n",
    "\t\n",
    "def bond_price(par_value,coupon, market_rate,n):\n",
    "\tc = par_value*coupon\n",
    "\treturn c/market_rate*(1-(1/(1+market_rate)**n))+par_value/(1+market_rate)**n"
   ]
  },
  {
   "cell_type": "code",
   "execution_count": 5,
   "metadata": {},
   "outputs": [],
   "source": [
    "par_value=1000   #par value of the bond\n",
    "coupon=0.05      #bond yield - coupon \n",
    "n=5              #years\n",
    "market_rate=0.04 #market rate of return"
   ]
  },
  {
   "cell_type": "code",
   "execution_count": 6,
   "metadata": {},
   "outputs": [
    {
     "name": "stdout",
     "output_type": "stream",
     "text": [
      "Price of the zero-coupon bond: $821.93\n",
      "Price of the coupon bond: $1044.52\n"
     ]
    }
   ],
   "source": [
    "print(\"Price of the zero-coupon bond: $%0.2f\" % zero_bond_price(par_value,market_rate,n))\n",
    "print(\"Price of the coupon bond: $%0.2f\" % bond_price(par_value,coupon,market_rate,n))"
   ]
  },
  {
   "cell_type": "code",
   "execution_count": null,
   "metadata": {},
   "outputs": [],
   "source": []
  }
 ],
 "metadata": {
  "kernelspec": {
   "display_name": "Python 3",
   "language": "python",
   "name": "python3"
  },
  "language_info": {
   "codemirror_mode": {
    "name": "ipython",
    "version": 3
   },
   "file_extension": ".py",
   "mimetype": "text/x-python",
   "name": "python",
   "nbconvert_exporter": "python",
   "pygments_lexer": "ipython3",
   "version": "3.7.0"
  }
 },
 "nbformat": 4,
 "nbformat_minor": 2
}
